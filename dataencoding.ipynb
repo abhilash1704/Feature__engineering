{
 "cells": [
  {
   "cell_type": "code",
   "execution_count": null,
   "id": "c46b3224",
   "metadata": {},
   "outputs": [],
   "source": []
  },
  {
   "cell_type": "markdown",
   "id": "c1a72338",
   "metadata": {},
   "source": [
    "## Data Encoding\n",
    "#### Data encoding is the process of converting categorical (text or labels) data into a numerical format so that machine learning algorithms can use it.\n",
    "##### Most ML models (like logistic regression, SVM, neural networks) work only with numbers — they cannot directly understand words like \"Male\", \"Female\", \"Yes\", \"No\", \"Red\", \"Blue\".\n",
    "👉 Encoding transforms these categories into numbers without losing meaning."
   ]
  },
  {
   "cell_type": "markdown",
   "id": "841ee259",
   "metadata": {},
   "source": [
    "# One Hot encoding\n",
    "\n",
    " One-Hot Encoding is a data encoding technique used to convert categorical values into binary (0/1) vectors."
   ]
  },
  {
   "cell_type": "code",
   "execution_count": 6,
   "id": "c85c15e2",
   "metadata": {},
   "outputs": [],
   "source": [
    "import pandas as pd\n",
    "from sklearn.preprocessing import OneHotEncoder"
   ]
  },
  {
   "cell_type": "code",
   "execution_count": 8,
   "id": "bac59f25",
   "metadata": {},
   "outputs": [],
   "source": [
    "df=pd.DataFrame({\n",
    "    'color':['red','blue','red','green','blue']\n",
    "})"
   ]
  },
  {
   "cell_type": "code",
   "execution_count": 9,
   "id": "34e5fb40",
   "metadata": {},
   "outputs": [
    {
     "data": {
      "text/html": [
       "<div>\n",
       "<style scoped>\n",
       "    .dataframe tbody tr th:only-of-type {\n",
       "        vertical-align: middle;\n",
       "    }\n",
       "\n",
       "    .dataframe tbody tr th {\n",
       "        vertical-align: top;\n",
       "    }\n",
       "\n",
       "    .dataframe thead th {\n",
       "        text-align: right;\n",
       "    }\n",
       "</style>\n",
       "<table border=\"1\" class=\"dataframe\">\n",
       "  <thead>\n",
       "    <tr style=\"text-align: right;\">\n",
       "      <th></th>\n",
       "      <th>color</th>\n",
       "    </tr>\n",
       "  </thead>\n",
       "  <tbody>\n",
       "    <tr>\n",
       "      <th>0</th>\n",
       "      <td>red</td>\n",
       "    </tr>\n",
       "    <tr>\n",
       "      <th>1</th>\n",
       "      <td>blue</td>\n",
       "    </tr>\n",
       "    <tr>\n",
       "      <th>2</th>\n",
       "      <td>red</td>\n",
       "    </tr>\n",
       "    <tr>\n",
       "      <th>3</th>\n",
       "      <td>green</td>\n",
       "    </tr>\n",
       "    <tr>\n",
       "      <th>4</th>\n",
       "      <td>blue</td>\n",
       "    </tr>\n",
       "  </tbody>\n",
       "</table>\n",
       "</div>"
      ],
      "text/plain": [
       "   color\n",
       "0    red\n",
       "1   blue\n",
       "2    red\n",
       "3  green\n",
       "4   blue"
      ]
     },
     "execution_count": 9,
     "metadata": {},
     "output_type": "execute_result"
    }
   ],
   "source": [
    "df.head()"
   ]
  },
  {
   "cell_type": "code",
   "execution_count": 11,
   "id": "d6393faf",
   "metadata": {},
   "outputs": [],
   "source": [
    "# create an instance of OnehotEncoder\n",
    "encoder=OneHotEncoder()"
   ]
  },
  {
   "cell_type": "code",
   "execution_count": 26,
   "id": "c1a6832d",
   "metadata": {},
   "outputs": [
    {
     "data": {
      "text/plain": [
       "array([[0., 0., 1.],\n",
       "       [1., 0., 0.],\n",
       "       [0., 0., 1.],\n",
       "       [0., 1., 0.],\n",
       "       [1., 0., 0.]])"
      ]
     },
     "execution_count": 26,
     "metadata": {},
     "output_type": "execute_result"
    }
   ],
   "source": [
    "encoder.fit_transform(df[['color']]).toarray()"
   ]
  },
  {
   "cell_type": "code",
   "execution_count": 33,
   "id": "e3db3438",
   "metadata": {},
   "outputs": [
    {
     "name": "stdout",
     "output_type": "stream",
     "text": [
      "Original Data:\n",
      "   Color\n",
      "0    Red\n",
      "1   Blue\n",
      "2  Green\n",
      "3   Blue\n",
      "4    Red\n",
      "\n",
      "After One-Hot Encoding:\n",
      "   Color_Blue  Color_Green  Color_Red\n",
      "0         0.0          0.0        1.0\n",
      "1         1.0          0.0        0.0\n",
      "2         0.0          1.0        0.0\n",
      "3         1.0          0.0        0.0\n",
      "4         0.0          0.0        1.0\n"
     ]
    }
   ],
   "source": [
    "import pandas as pd\n",
    "from sklearn.preprocessing import OneHotEncoder\n",
    "\n",
    "# Sample dataset\n",
    "data = {\"Color\": [\"Red\", \"Blue\", \"Green\", \"Blue\", \"Red\"]}\n",
    "df = pd.DataFrame(data)\n",
    "print(\"Original Data:\")\n",
    "print(df)\n",
    "\n",
    "# Create encoder\n",
    "encoder = OneHotEncoder(sparse_output=False)  # <-- use sparse_output=False\n",
    "# If your sklearn is old, replace with: OneHotEncoder(sparse=False)\n",
    "\n",
    "# Fit and transform\n",
    "encoded = encoder.fit_transform(df[[\"Color\"]])\n",
    "\n",
    "# Convert to DataFrame\n",
    "encoder_df = pd.DataFrame(encoded, columns=encoder.get_feature_names_out([\"Color\"]))\n",
    "\n",
    "print(\"\\nAfter One-Hot Encoding:\")\n",
    "print(encoder_df)\n"
   ]
  },
  {
   "cell_type": "markdown",
   "id": "99dcb74e",
   "metadata": {},
   "source": [
    "# Label Encoding\n",
    "### Label Encoding is a technique to convert categorical values into numeric labels."
   ]
  },
  {
   "cell_type": "code",
   "execution_count": 34,
   "id": "4392f6a0",
   "metadata": {},
   "outputs": [
    {
     "name": "stdout",
     "output_type": "stream",
     "text": [
      "Original Data:\n",
      "   Color\n",
      "0    Red\n",
      "1   Blue\n",
      "2  Green\n",
      "3   Blue\n",
      "4    Red\n"
     ]
    }
   ],
   "source": [
    "import pandas as pd\n",
    "\n",
    "data = {\"Color\": [\"Red\", \"Blue\", \"Green\", \"Blue\", \"Red\"]}\n",
    "df = pd.DataFrame(data)\n",
    "print(\"Original Data:\")\n",
    "print(df)\n"
   ]
  },
  {
   "cell_type": "code",
   "execution_count": 35,
   "id": "40c911a2",
   "metadata": {},
   "outputs": [
    {
     "name": "stdout",
     "output_type": "stream",
     "text": [
      "\n",
      "After Label Encoding:\n",
      "   Color  Color_Label\n",
      "0    Red            2\n",
      "1   Blue            0\n",
      "2  Green            1\n",
      "3   Blue            0\n",
      "4    Red            2\n"
     ]
    }
   ],
   "source": [
    "from sklearn.preprocessing import LabelEncoder\n",
    "\n",
    "# Create encoder\n",
    "le = LabelEncoder()\n",
    "\n",
    "# Fit and transform the column\n",
    "df[\"Color_Label\"] = le.fit_transform(df[\"Color\"])\n",
    "\n",
    "print(\"\\nAfter Label Encoding:\")\n",
    "print(df)\n"
   ]
  },
  {
   "cell_type": "markdown",
   "id": "904bc9e7",
   "metadata": {},
   "source": [
    "# Ordinal Encoding\n",
    "Ordinal Encoding is a way to convert categorical values with a natural order into numbers, preserving that order.\n",
    "\n",
    "#### \n",
    "priority==> High School < Bachelor < Master < PhD"
   ]
  },
  {
   "cell_type": "code",
   "execution_count": 1,
   "id": "a6a66c1a",
   "metadata": {},
   "outputs": [],
   "source": [
    "from sklearn.preprocessing import OrdinalEncoder"
   ]
  },
  {
   "cell_type": "code",
   "execution_count": 5,
   "id": "f5e8a0c4",
   "metadata": {},
   "outputs": [
    {
     "name": "stdout",
     "output_type": "stream",
     "text": [
      "       Education  Education_encoded\n",
      "0        Primary                0.0\n",
      "1       Graduate                2.0\n",
      "2      Secondary                1.0\n",
      "3  Post-Graduate                3.0\n",
      "4        Primary                0.0\n"
     ]
    }
   ],
   "source": [
    "import pandas as pd\n",
    "from sklearn.preprocessing import OrdinalEncoder\n",
    "\n",
    "# Sample data\n",
    "df = pd.DataFrame({\n",
    "    'Education': ['Primary', 'Graduate', 'Secondary', 'Post-Graduate', 'Primary']\n",
    "})\n",
    "\n",
    "# Define order of categories\n",
    "education_order = [['Primary', 'Secondary', 'Graduate', 'Post-Graduate']]\n",
    "\n",
    "# Apply Ordinal Encoding\n",
    "encoder = OrdinalEncoder(categories=education_order)\n",
    "df['Education_encoded'] = encoder.fit_transform(df[['Education']])\n",
    "\n",
    "print(df)\n",
    "\n",
    "\n",
    "\n",
    "### it gives in order wise like in priority oder "
   ]
  },
  {
   "cell_type": "markdown",
   "id": "f52c04af",
   "metadata": {},
   "source": [
    "# Target Guided Ordinal Encoding"
   ]
  },
  {
   "cell_type": "markdown",
   "id": "b7f302dd",
   "metadata": {},
   "source": [
    "### It is an encoding technique where categorical levels are ordered according to the mean (or median) of the target variable."
   ]
  },
  {
   "cell_type": "code",
   "execution_count": 7,
   "id": "86f42a24",
   "metadata": {},
   "outputs": [
    {
     "name": "stdout",
     "output_type": "stream",
     "text": [
      "Original Data:\n",
      "        City  Purchase\n",
      "0      Delhi       200\n",
      "1     Mumbai       500\n",
      "2      Delhi       300\n",
      "3  Bangalore       100\n",
      "4     Mumbai       700\n",
      "5  Bangalore       150\n",
      "6      Delhi       400\n",
      "\n",
      "After Target Guided Encoding:\n",
      "        City  Purchase  City_encoded\n",
      "0      Delhi       200             1\n",
      "1     Mumbai       500             2\n",
      "2      Delhi       300             1\n",
      "3  Bangalore       100             0\n",
      "4     Mumbai       700             2\n",
      "5  Bangalore       150             0\n",
      "6      Delhi       400             1\n"
     ]
    }
   ],
   "source": [
    "import pandas as pd\n",
    "\n",
    "# Sample data\n",
    "df = pd.DataFrame({\n",
    "    'City': ['Delhi', 'Mumbai', 'Delhi', 'Bangalore', 'Mumbai', 'Bangalore', 'Delhi'],\n",
    "    'Purchase': [200, 500, 300, 100, 700, 150, 400]  # Target variable\n",
    "})\n",
    "\n",
    "print(\"Original Data:\")\n",
    "print(df)\n",
    "\n",
    "# Step 1: Compute mean target for each category\n",
    "order = df.groupby('City')['Purchase'].mean().sort_values().index\n",
    "\n",
    "# Step 2: Create a mapping\n",
    "mapping = {k: i for i, k in enumerate(order)}\n",
    "\n",
    "# Step 3: Replace values\n",
    "df['City_encoded'] = df['City'].map(mapping)\n",
    "\n",
    "print(\"\\nAfter Target Guided Encoding:\")\n",
    "print(df)\n"
   ]
  },
  {
   "cell_type": "code",
   "execution_count": null,
   "id": "aa773210",
   "metadata": {},
   "outputs": [],
   "source": []
  }
 ],
 "metadata": {
  "kernelspec": {
   "display_name": "base",
   "language": "python",
   "name": "python3"
  },
  "language_info": {
   "codemirror_mode": {
    "name": "ipython",
    "version": 3
   },
   "file_extension": ".py",
   "mimetype": "text/x-python",
   "name": "python",
   "nbconvert_exporter": "python",
   "pygments_lexer": "ipython3",
   "version": "3.13.5"
  }
 },
 "nbformat": 4,
 "nbformat_minor": 5
}
